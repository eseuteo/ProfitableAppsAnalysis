{
 "cells": [
  {
   "cell_type": "markdown",
   "metadata": {},
   "source": [
    "### Analysis of profitable app profiles in Google Play and App Store\n",
    "\n",
    "In this project we'll try to find app profiles that are profitable in Google Play and App Store markets. As if we were Data Analysts for a company devoted to smartphone apps development, we want to provide the development team with insights regarding our products.\n"
   ]
  },
  {
   "cell_type": "markdown",
   "metadata": {},
   "source": [
    "#### Preliminary data exploration\n",
    "\n",
    "First of all, we want to open the data and explore it, in order to ...\n",
    "\n",
    "Thus, what we'll do is open the CSV files and store the headers and the dataset themselves. Then, we can print the headers to discard those that are not relevant for our task, as well as print part of the dataset to know it better."
   ]
  },
  {
   "cell_type": "code",
   "execution_count": 60,
   "metadata": {},
   "outputs": [],
   "source": [
    "import csv"
   ]
  },
  {
   "cell_type": "code",
   "execution_count": 84,
   "metadata": {},
   "outputs": [
    {
     "name": "stdout",
     "output_type": "stream",
     "text": [
      "['Photo Editor & Candy Camera & Grid & ScrapBook', 'ART_AND_DESIGN', '4.1', '159', '19M', '10,000+', 'Free', '0', 'Everyone', 'Art & Design', 'January 7, 2018', '1.0.0', '4.0.3 and up']\n",
      "['Coloring book moana', 'ART_AND_DESIGN', '3.9', '967', '14M', '500,000+', 'Free', '0', 'Everyone', 'Art & Design;Pretend Play', 'January 15, 2018', '2.0.0', '4.0.3 and up']\n",
      "['U Launcher Lite – FREE Live Cool Themes, Hide Apps', 'ART_AND_DESIGN', '4.7', '87510', '8.7M', '5,000,000+', 'Free', '0', 'Everyone', 'Art & Design', 'August 1, 2018', '1.2.4', '4.0.3 and up']\n",
      "['Sketch - Draw & Paint', 'ART_AND_DESIGN', '4.5', '215644', '25M', '50,000,000+', 'Free', '0', 'Teen', 'Art & Design', 'June 8, 2018', 'Varies with device', '4.2 and up']\n",
      "['Pixel Draw - Number Art Coloring Book', 'ART_AND_DESIGN', '4.3', '967', '2.8M', '100,000+', 'Free', '0', 'Everyone', 'Art & Design;Creativity', 'June 20, 2018', '1.1', '4.4 and up']\n",
      "\n",
      "\n",
      "Number of rows: 10841\n",
      "Number of columns: 13\n",
      "\n",
      "\n",
      "['284882215', 'Facebook', '389879808', 'USD', '0.0', '2974676', '212', '3.5', '3.5', '95.0', '4+', 'Social Networking', '37', '1', '29', '1']\n",
      "['389801252', 'Instagram', '113954816', 'USD', '0.0', '2161558', '1289', '4.5', '4.0', '10.23', '12+', 'Photo & Video', '37', '0', '29', '1']\n",
      "['529479190', 'Clash of Clans', '116476928', 'USD', '0.0', '2130805', '579', '4.5', '4.5', '9.24.12', '9+', 'Games', '38', '5', '18', '1']\n",
      "['420009108', 'Temple Run', '65921024', 'USD', '0.0', '1724546', '3842', '4.5', '4.0', '1.6.2', '9+', 'Games', '40', '5', '1', '1']\n",
      "['284035177', 'Pandora - Music & Radio', '130242560', 'USD', '0.0', '1126879', '3594', '4.0', '4.5', '8.4.1', '12+', 'Music', '37', '4', '1', '1']\n",
      "\n",
      "\n",
      "Number of rows: 7197\n",
      "Number of columns: 16\n",
      "\n",
      "\n",
      "['App', 'Category', 'Rating', 'Reviews', 'Size', 'Installs', 'Type', 'Price', 'Content Rating', 'Genres', 'Last Updated', 'Current Ver', 'Android Ver']\n",
      "['id', 'track_name', 'size_bytes', 'currency', 'price', 'rating_count_tot', 'rating_count_ver', 'user_rating', 'user_rating_ver', 'ver', 'cont_rating', 'prime_genre', 'sup_devices.num', 'ipadSc_urls.num', 'lang.num', 'vpp_lic']\n"
     ]
    }
   ],
   "source": [
    "opened_googleplay_file = open('googleplaystore.csv')\n",
    "googleplay_reader = csv.reader(opened_googleplay_file)\n",
    "googleplay_csv = list(googleplay_reader)\n",
    "\n",
    "opened_appstore_file = open('AppleStore.csv')\n",
    "appstore_reader = csv.reader(opened_appstore_file)\n",
    "appstore_csv = list(appstore_reader)    \n",
    "\n",
    "googleplay_header, googleplay_dataset = googleplay_csv[0], googleplay_csv[1:]\n",
    "appstore_header, appstore_dataset = appstore_csv[0], appstore_csv[1:]\n",
    "\n",
    "explore_dataset(googleplay_dataset, 0, 5)\n",
    "explore_dataset(appstore_dataset, 0, 5)\n",
    "\n",
    "print(googleplay_header)\n",
    "print(appstore_header)"
   ]
  },
  {
   "cell_type": "code",
   "execution_count": 61,
   "metadata": {},
   "outputs": [],
   "source": [
    "def explore_dataset(dataset, start, end):\n",
    "    dataset_slice = dataset[start:end]    \n",
    "    \n",
    "    for row in dataset_slice:\n",
    "        print(row)\n",
    "    \n",
    "    print('\\n')\n",
    "    print('Number of rows:', len(dataset))\n",
    "    print('Number of columns:', len(dataset[0]))\n",
    "    print('\\n')"
   ]
  },
  {
   "cell_type": "markdown",
   "metadata": {},
   "source": [
    "#### Data Cleaning\n",
    "\n",
    "Before actually analysing data, we need to get rid of wrong data and rows that are not useful for us.\n",
    "\n",
    "As stated [here](https://www.kaggle.com/lava18/google-play-store-apps/discussion/66015), the element in row 10472 is not correct. Therefore we'll remove it.\n",
    "\n",
    "Moreover, there is duplicate data in our dataset (some apps appear more than once). In order to select the most recent data, we will take the \"reviews\" column into account (i.e.: we'll keep the row with the largest value for \"reviews\")"
   ]
  },
  {
   "cell_type": "code",
   "execution_count": 85,
   "metadata": {},
   "outputs": [],
   "source": [
    "del googleplay_dataset[10472]"
   ]
  },
  {
   "cell_type": "code",
   "execution_count": 86,
   "metadata": {},
   "outputs": [
    {
     "name": "stdout",
     "output_type": "stream",
     "text": [
      "10840\n",
      "9659\n"
     ]
    }
   ],
   "source": [
    "print(len(googleplay_dataset))\n",
    "\n",
    "unique_apps_dict = dict()\n",
    "\n",
    "for row in googleplay_dataset:\n",
    "    if row[0] in unique_apps_dict:\n",
    "        current_reviews = unique_apps_dict[row[0]][3]\n",
    "        new_version_reviews = row[3]\n",
    "        if new_version_reviews < current_reviews:\n",
    "            continue\n",
    "    unique_apps_dict[row[0]] = row\n",
    "    \n",
    "googleplay_dataset = list(unique_apps_dict.values())\n",
    "        \n",
    "print(len(googleplay_dataset))"
   ]
  },
  {
   "cell_type": "markdown",
   "metadata": {},
   "source": [
    "Another step in the data cleaning process is to filter those apps that are not in English. In order to detect apps in English, we define the following function. It just checks character by character and returns false if the amount of non-English characters is greater than 3."
   ]
  },
  {
   "cell_type": "code",
   "execution_count": 87,
   "metadata": {},
   "outputs": [],
   "source": [
    "def is_english_title(title):\n",
    "    non_english_characters = 0\n",
    "    for char in title:\n",
    "        if ord(char) > 127:\n",
    "            non_english_characters += 1\n",
    "    return True if non_english_characters <= 3 else False"
   ]
  },
  {
   "cell_type": "code",
   "execution_count": 88,
   "metadata": {},
   "outputs": [
    {
     "name": "stdout",
     "output_type": "stream",
     "text": [
      "Google play dataset original size: 9659\n",
      "Google play dataset new size: 9614\n",
      "App store dataset original size: 7197\n",
      "App store dataset new size: 6183\n"
     ]
    }
   ],
   "source": [
    "googleplay_english_dataset = []\n",
    "appstore_english_dataset = []\n",
    "\n",
    "for row in googleplay_dataset:\n",
    "    if is_english_title(row[0]):\n",
    "        googleplay_english_dataset.append(row)\n",
    "\n",
    "for row in appstore_dataset:\n",
    "    if is_english_title(row[1]):\n",
    "        appstore_english_dataset.append(row)\n",
    "        \n",
    "print('Google play dataset original size: {}'.format(len(googleplay_dataset)))\n",
    "print('Google play dataset new size: {}'.format(len(googleplay_english_dataset)))\n",
    "print('App store dataset original size: {}'.format(len(appstore_dataset)))\n",
    "print('App store dataset new size: {}'.format(len(appstore_english_dataset)))"
   ]
  },
  {
   "cell_type": "markdown",
   "metadata": {},
   "source": [
    "Next step is filter free apps. We are interested only in those apps, therefore we have to get rid of apps with a price different than 0."
   ]
  },
  {
   "cell_type": "code",
   "execution_count": 89,
   "metadata": {},
   "outputs": [
    {
     "name": "stdout",
     "output_type": "stream",
     "text": [
      "Google play only free apps dataset size: 8862\n",
      "App store only free apps dataset size: 3222\n"
     ]
    }
   ],
   "source": [
    "googleplay_free_apps = []\n",
    "appstore_free_apps = []\n",
    "\n",
    "for row in googleplay_english_dataset:\n",
    "    if row[7] == '0':\n",
    "        googleplay_free_apps.append(row)\n",
    "        \n",
    "for row in appstore_english_dataset:\n",
    "    if row[4] == '0.0':\n",
    "        appstore_free_apps.append(row)\n",
    "\n",
    "print('Google play only free apps dataset size: {}'.format(len(googleplay_free_apps)))\n",
    "print('App store only free apps dataset size: {}'.format(len(appstore_free_apps)))"
   ]
  },
  {
   "cell_type": "markdown",
   "metadata": {},
   "source": [
    "#### Data Analysis\n",
    "Once our data is cleaned, we want to get some insight from it. Our company wants to know what are the characteristics of the most popular apps, in order to develop similar ones. Thus, the first step towards this can be to have a function to obtain frequency tables from the dataset columns.\n"
   ]
  },
  {
   "cell_type": "code",
   "execution_count": 68,
   "metadata": {},
   "outputs": [],
   "source": [
    "def frequency_table(dataset, column_index):\n",
    "    frequency_dict = dict()\n",
    "    for row in dataset:\n",
    "        if row[column_index] not in frequency_dict:\n",
    "            frequency_dict[row[column_index]] = 0\n",
    "        frequency_dict[row[column_index]] += 1\n",
    "    \n",
    "    percentages_dict = dict()\n",
    "    for key in frequency_dict:\n",
    "        percentages_dict[key] = 100 * frequency_dict[key] / len(dataset)\n",
    "    \n",
    "    return percentages_dict\n",
    "\n",
    "def display_table(dataset, index):\n",
    "    table = frequency_table(dataset, index)\n",
    "    table_display = []\n",
    "    for key in table:\n",
    "        key_val_as_tuple = (table[key], key)\n",
    "        table_display.append(key_val_as_tuple)\n",
    "\n",
    "    table_sorted = sorted(table_display, reverse = True)\n",
    "    for entry in table_sorted:\n",
    "        print(entry[1], ':', entry[0])"
   ]
  },
  {
   "cell_type": "code",
   "execution_count": 69,
   "metadata": {},
   "outputs": [
    {
     "name": "stdout",
     "output_type": "stream",
     "text": [
      "Games : 58.16263190564867\n",
      "Entertainment : 7.883302296710118\n",
      "Photo & Video : 4.9658597144630665\n",
      "Education : 3.6623215394165114\n",
      "Social Networking : 3.2898820608317814\n",
      "Shopping : 2.60707635009311\n",
      "Utilities : 2.5139664804469275\n",
      "Sports : 2.1415270018621975\n",
      "Music : 2.0484171322160147\n",
      "Health & Fitness : 2.017380509000621\n",
      "Productivity : 1.7380509000620732\n",
      "Lifestyle : 1.5828677839851024\n",
      "News : 1.3345747982619491\n",
      "Travel : 1.2414649286157666\n",
      "Finance : 1.1173184357541899\n",
      "Weather : 0.8690254500310366\n",
      "Food & Drink : 0.8069522036002483\n",
      "Reference : 0.5586592178770949\n",
      "Business : 0.5276225946617008\n",
      "Book : 0.4345127250155183\n",
      "Navigation : 0.186219739292365\n",
      "Medical : 0.186219739292365\n",
      "Catalogs : 0.12414649286157665\n",
      "\n",
      "FAMILY : 18.968630106070865\n",
      "GAME : 9.68178740690589\n",
      "TOOLS : 8.451816745655607\n",
      "BUSINESS : 4.592642744301512\n",
      "LIFESTYLE : 3.9043105393816293\n",
      "PRODUCTIVITY : 3.893026404874746\n",
      "FINANCE : 3.7011961182577298\n",
      "MEDICAL : 3.5206499661475963\n",
      "SPORTS : 3.39652448657188\n",
      "PERSONALIZATION : 3.3175355450236967\n",
      "COMMUNICATION : 3.2385466034755135\n",
      "HEALTH_AND_FITNESS : 3.080568720379147\n",
      "PHOTOGRAPHY : 2.945159106296547\n",
      "NEWS_AND_MAGAZINES : 2.7984653577070637\n",
      "SOCIAL : 2.663055743624464\n",
      "TRAVEL_AND_LOCAL : 2.3358158429248475\n",
      "SHOPPING : 2.245542766869781\n",
      "BOOKS_AND_REFERENCE : 2.143985556307831\n",
      "DATING : 1.8618821936357481\n",
      "VIDEO_PLAYERS : 1.7941773865944481\n",
      "MAPS_AND_NAVIGATION : 1.3992326788535319\n",
      "FOOD_AND_DRINK : 1.2412547957571654\n",
      "EDUCATION : 1.162265854208982\n",
      "ENTERTAINMENT : 0.9478672985781991\n",
      "LIBRARIES_AND_DEMO : 0.9365831640713157\n",
      "AUTO_AND_VEHICLES : 0.9252990295644324\n",
      "HOUSE_AND_HOME : 0.8237418190024826\n",
      "WEATHER : 0.8011735499887158\n",
      "EVENTS : 0.7109004739336493\n",
      "PARENTING : 0.6544798013992327\n",
      "ART_AND_DESIGN : 0.6431956668923493\n",
      "COMICS : 0.6206273978785827\n",
      "BEAUTY : 0.598059128864816\n",
      "\n",
      "Tools : 8.440532611148726\n",
      "Entertainment : 6.070864364703227\n",
      "Education : 5.348679756262695\n",
      "Business : 4.592642744301512\n",
      "Productivity : 3.893026404874746\n",
      "Lifestyle : 3.893026404874746\n",
      "Finance : 3.7011961182577298\n",
      "Medical : 3.5206499661475963\n",
      "Sports : 3.46422929361318\n",
      "Personalization : 3.3175355450236967\n",
      "Communication : 3.2385466034755135\n",
      "Action : 3.1031369893929135\n",
      "Health & Fitness : 3.080568720379147\n",
      "Photography : 2.945159106296547\n",
      "News & Magazines : 2.7984653577070637\n",
      "Social : 2.663055743624464\n",
      "Travel & Local : 2.324531708417964\n",
      "Shopping : 2.245542766869781\n",
      "Books & Reference : 2.143985556307831\n",
      "Simulation : 2.0424283457458814\n",
      "Dating : 1.8618821936357481\n",
      "Arcade : 1.8505980591288649\n",
      "Video Players & Editors : 1.7716091175806816\n",
      "Casual : 1.7490408485669149\n",
      "Maps & Navigation : 1.3992326788535319\n",
      "Food & Drink : 1.2412547957571654\n",
      "Puzzle : 1.128413450688332\n",
      "Racing : 0.9930038366057323\n",
      "Role Playing : 0.9365831640713157\n",
      "Libraries & Demo : 0.9365831640713157\n",
      "Auto & Vehicles : 0.9252990295644324\n",
      "Strategy : 0.9140148950575491\n",
      "House & Home : 0.8237418190024826\n",
      "Weather : 0.8011735499887158\n",
      "Events : 0.7109004739336493\n",
      "Adventure : 0.6770480704129993\n",
      "Comics : 0.6093432633716994\n",
      "Beauty : 0.598059128864816\n",
      "Art & Design : 0.598059128864816\n",
      "Parenting : 0.49650191830286616\n",
      "Card : 0.44008124576844954\n",
      "Casino : 0.4287971112615662\n",
      "Trivia : 0.4175129767546829\n",
      "Educational;Education : 0.3949447077409163\n",
      "Educational : 0.37237643872714965\n",
      "Board : 0.37237643872714965\n",
      "Education;Education : 0.33852403520649965\n",
      "Word : 0.2595350936583164\n",
      "Casual;Pretend Play : 0.23696682464454977\n",
      "Music : 0.2031144211238998\n",
      "Puzzle;Brain Games : 0.18054615211013314\n",
      "Racing;Action & Adventure : 0.16926201760324983\n",
      "Entertainment;Music & Video : 0.16926201760324983\n",
      "Casual;Brain Games : 0.13540961408259986\n",
      "Casual;Action & Adventure : 0.13540961408259986\n",
      "Arcade;Action & Adventure : 0.12412547957571654\n",
      "Action;Action & Adventure : 0.1015572105619499\n",
      "Educational;Pretend Play : 0.09027307605506657\n",
      "Board;Brain Games : 0.09027307605506657\n",
      "Simulation;Action & Adventure : 0.07898894154818326\n",
      "Parenting;Education : 0.07898894154818326\n",
      "Entertainment;Brain Games : 0.07898894154818326\n",
      "Parenting;Music & Video : 0.06770480704129993\n",
      "Educational;Brain Games : 0.06770480704129993\n",
      "Casual;Creativity : 0.06770480704129993\n",
      "Art & Design;Creativity : 0.06770480704129993\n",
      "Education;Pretend Play : 0.05642067253441661\n",
      "Role Playing;Pretend Play : 0.045136538027533285\n",
      "Education;Creativity : 0.045136538027533285\n",
      "Role Playing;Action & Adventure : 0.033852403520649964\n",
      "Puzzle;Action & Adventure : 0.033852403520649964\n",
      "Entertainment;Creativity : 0.033852403520649964\n",
      "Entertainment;Action & Adventure : 0.033852403520649964\n",
      "Educational;Creativity : 0.033852403520649964\n",
      "Educational;Action & Adventure : 0.033852403520649964\n",
      "Education;Music & Video : 0.033852403520649964\n",
      "Education;Brain Games : 0.033852403520649964\n",
      "Education;Action & Adventure : 0.033852403520649964\n",
      "Adventure;Action & Adventure : 0.033852403520649964\n",
      "Video Players & Editors;Music & Video : 0.022568269013766643\n",
      "Sports;Action & Adventure : 0.022568269013766643\n",
      "Simulation;Pretend Play : 0.022568269013766643\n",
      "Puzzle;Creativity : 0.022568269013766643\n",
      "Music;Music & Video : 0.022568269013766643\n",
      "Entertainment;Pretend Play : 0.022568269013766643\n",
      "Casual;Education : 0.022568269013766643\n",
      "Board;Action & Adventure : 0.022568269013766643\n",
      "Video Players & Editors;Creativity : 0.011284134506883321\n",
      "Trivia;Education : 0.011284134506883321\n",
      "Travel & Local;Action & Adventure : 0.011284134506883321\n",
      "Tools;Education : 0.011284134506883321\n",
      "Strategy;Education : 0.011284134506883321\n",
      "Strategy;Creativity : 0.011284134506883321\n",
      "Strategy;Action & Adventure : 0.011284134506883321\n",
      "Simulation;Education : 0.011284134506883321\n",
      "Role Playing;Brain Games : 0.011284134506883321\n",
      "Racing;Pretend Play : 0.011284134506883321\n",
      "Puzzle;Education : 0.011284134506883321\n",
      "Parenting;Brain Games : 0.011284134506883321\n",
      "Music & Audio;Music & Video : 0.011284134506883321\n",
      "Lifestyle;Pretend Play : 0.011284134506883321\n",
      "Lifestyle;Education : 0.011284134506883321\n",
      "Health & Fitness;Education : 0.011284134506883321\n",
      "Health & Fitness;Action & Adventure : 0.011284134506883321\n",
      "Entertainment;Education : 0.011284134506883321\n",
      "Communication;Creativity : 0.011284134506883321\n",
      "Comics;Creativity : 0.011284134506883321\n",
      "Casual;Music & Video : 0.011284134506883321\n",
      "Card;Brain Games : 0.011284134506883321\n",
      "Card;Action & Adventure : 0.011284134506883321\n",
      "Books & Reference;Education : 0.011284134506883321\n",
      "Art & Design;Pretend Play : 0.011284134506883321\n",
      "Art & Design;Action & Adventure : 0.011284134506883321\n",
      "Arcade;Pretend Play : 0.011284134506883321\n",
      "Adventure;Education : 0.011284134506883321\n"
     ]
    }
   ],
   "source": [
    "display_table(appstore_free_apps, 11)\n",
    "print()\n",
    "display_table(googleplay_free_apps, 1)\n",
    "print()\n",
    "display_table(googleplay_free_apps, 9)"
   ]
  },
  {
   "cell_type": "markdown",
   "metadata": {},
   "source": [
    "##### Most popular app genres (App Store data)\n",
    "\n",
    "Once we are able to obtain frequency tables for the different columns in our dataset, we want to know what app genres are the most popular ones. We thus define the following function, in order to get the average ratings per app (in the App Store dataset we don't have information regarding the number of installs, so we use the number of ratings as a proxy for the number of installs)"
   ]
  },
  {
   "cell_type": "code",
   "execution_count": 97,
   "metadata": {},
   "outputs": [],
   "source": [
    "def get_genre_stats_dict(dataset, column_index, ratings_installs_column_index):\n",
    "    genre_stats_dict = dict()\n",
    "    for row in dataset:\n",
    "        if row[column_index] not in genre_stats_dict:\n",
    "            genre_stats_dict[row[column_index]] = dict()\n",
    "            genre_stats_dict[row[column_index]]['ratings/installs'] = 0\n",
    "            genre_stats_dict[row[column_index]]['app_count'] = 0\n",
    "        genre_stats_dict[row[column_index]]['ratings/installs'] += int(row[ratings_installs_column_index])\n",
    "        genre_stats_dict[row[column_index]]['app_count'] += 1\n",
    "    return genre_stats_dict\n"
   ]
  },
  {
   "cell_type": "code",
   "execution_count": 98,
   "metadata": {},
   "outputs": [],
   "source": [
    "genre_ratings_and_count = get_genre_stats_dict(appstore_free_apps, 11, 5)\n",
    "genre_stats = dict()\n",
    "for item in genre_ratings_and_count:\n",
    "    genre_stats[item] = genre_ratings_and_count[item]['ratings/installs'] / genre_ratings_and_count[item]['app_count']\n",
    "genre_stats = {k: v for k, v in sorted(genre_stats.items(), key=lambda item: item[1], reverse = True)}"
   ]
  },
  {
   "cell_type": "markdown",
   "metadata": {},
   "source": [
    "Finally we display the data obtained. As we can see, the most popular apps are those from genres Navigation, Reference and Social Networking. However, it is noteworthy that those genres use to have a few apps that are very popular, and therefore are not a good option for our \"company\" to develop an app. As an alternative, Food & Drink, Photo & Video or Travel apps could be a good market niche."
   ]
  },
  {
   "cell_type": "code",
   "execution_count": 99,
   "metadata": {},
   "outputs": [
    {
     "name": "stdout",
     "output_type": "stream",
     "text": [
      "Navigation -> 86090.33333333333\n",
      "Reference -> 74942.11111111111\n",
      "Social Networking -> 71548.34905660378\n",
      "Music -> 57326.530303030304\n",
      "Weather -> 52279.892857142855\n",
      "Book -> 39758.5\n",
      "Food & Drink -> 33333.92307692308\n",
      "Finance -> 31467.944444444445\n",
      "Photo & Video -> 28441.54375\n",
      "Travel -> 28243.8\n",
      "Shopping -> 26919.690476190477\n",
      "Health & Fitness -> 23298.015384615384\n",
      "Sports -> 23008.898550724636\n",
      "Games -> 22788.6696905016\n",
      "News -> 21248.023255813954\n",
      "Productivity -> 21028.410714285714\n",
      "Utilities -> 18684.456790123455\n",
      "Lifestyle -> 16485.764705882353\n",
      "Entertainment -> 14029.830708661417\n",
      "Business -> 7491.117647058823\n",
      "Education -> 7003.983050847458\n",
      "Catalogs -> 4004.0\n",
      "Medical -> 612.0\n"
     ]
    }
   ],
   "source": [
    "for item in genre_stats:\n",
    "    print(item + ' -> ' + str(genre_stats[item]))"
   ]
  },
  {
   "cell_type": "markdown",
   "metadata": {},
   "source": [
    "##### Most popular app genres (Google Play data)\n",
    "\n",
    "Now we do the same process with the Google Play dataset. We find a similar situation, in the sense that the most important genre is \"Communication\", but it is rather skewed, as there are a few very important apps (Whatsapp, Messenger, Hangouts, ...) and lots of other less successful apps."
   ]
  },
  {
   "cell_type": "code",
   "execution_count": 90,
   "metadata": {},
   "outputs": [],
   "source": [
    "import re\n",
    "\n",
    "for row in googleplay_free_apps:\n",
    "    row[5] = int(re.sub('[^0-9]', '', row[5]))"
   ]
  },
  {
   "cell_type": "code",
   "execution_count": 100,
   "metadata": {},
   "outputs": [],
   "source": [
    "genre_ratings_and_count = get_genre_stats_dict(googleplay_free_apps, 9, 5)\n",
    "genre_stats = dict()\n",
    "for item in genre_ratings_and_count:\n",
    "    genre_stats[item] = genre_ratings_and_count[item]['ratings/installs'] / genre_ratings_and_count[item]['app_count']\n",
    "genre_stats = {k: v for k, v in sorted(genre_stats.items(), key=lambda item: item[1], reverse = True)}"
   ]
  },
  {
   "cell_type": "code",
   "execution_count": 104,
   "metadata": {},
   "outputs": [
    {
     "name": "stdout",
     "output_type": "stream",
     "text": [
      "Communication -> 38456119.167247385\n",
      "Adventure;Action & Adventure -> 35333333.333333336\n",
      "Video Players & Editors -> 24947335.796178345\n",
      "Social -> 23253652.127118643\n",
      "Arcade -> 22888365.48780488\n",
      "Casual -> 19630958.51612903\n",
      "Puzzle;Action & Adventure -> 18366666.666666668\n",
      "Photography -> 17805627.643678162\n",
      "Educational;Action & Adventure -> 17016666.666666668\n",
      "Productivity -> 16787331.344927534\n",
      "Racing -> 15910645.681818182\n",
      "Travel & Local -> 14051476.145631067\n",
      "Casual;Action & Adventure -> 12916666.666666666\n",
      "Action -> 12603588.872727273\n",
      "Strategy -> 11199902.530864198\n",
      "Tools -> 10683213.20053476\n",
      "Lifestyle;Pretend Play -> 10000000.0\n",
      "Adventure;Education -> 10000000.0\n",
      "Casual;Music & Video -> 10000000.0\n",
      "Tools;Education -> 10000000.0\n",
      "Card;Action & Adventure -> 10000000.0\n",
      "Role Playing;Brain Games -> 10000000.0\n",
      "News & Magazines -> 9549178.467741935\n",
      "Music -> 9445583.333333334\n",
      "Educational;Pretend Play -> 9375000.0\n",
      "Word -> 9094458.695652174\n",
      "Puzzle;Brain Games -> 9013125.0\n",
      "Racing;Action & Adventure -> 8816666.666666666\n",
      "Books & Reference -> 8767811.894736841\n",
      "Puzzle -> 8302861.91\n",
      "Video Players & Editors;Music & Video -> 7500000.0\n",
      "Shopping -> 7036877.311557789\n",
      "Role Playing;Action & Adventure -> 7000000.0\n",
      "Casual;Pretend Play -> 6957142.857142857\n",
      "Entertainment;Music & Video -> 6413333.333333333\n",
      "Action;Action & Adventure -> 5888888.888888889\n",
      "Entertainment -> 5602792.775092937\n",
      "Education;Brain Games -> 5333333.333333333\n",
      "Casual;Creativity -> 5333333.333333333\n",
      "Role Playing;Pretend Play -> 5275000.0\n",
      "Personalization -> 5201482.6122448975\n",
      "Weather -> 5074486.197183099\n",
      "Music;Music & Video -> 5050000.0\n",
      "Sports;Action & Adventure -> 5050000.0\n",
      "Video Players & Editors;Creativity -> 5000000.0\n",
      "Adventure -> 4922785.333333333\n",
      "Simulation;Action & Adventure -> 4857142.857142857\n",
      "Education;Education -> 4759517.0\n",
      "Sports -> 4596842.615635179\n",
      "Educational;Brain Games -> 4433333.333333333\n",
      "Health & Fitness -> 4188821.9853479853\n",
      "Maps & Navigation -> 4056941.7741935486\n",
      "Entertainment;Creativity -> 4000000.0\n",
      "Role Playing -> 3965645.421686747\n",
      "Card -> 3656884.6153846155\n",
      "Trivia -> 3475712.7027027025\n",
      "Simulation -> 3475484.08839779\n",
      "Casino -> 3427910.5263157897\n",
      "Board -> 3388276.0606060605\n",
      "Entertainment;Brain Games -> 3314285.714285714\n",
      "Arcade;Action & Adventure -> 3190909.1818181816\n",
      "Board;Action & Adventure -> 3000000.0\n",
      "Entertainment;Pretend Play -> 3000000.0\n",
      "Education;Creativity -> 2875000.0\n",
      "Educational;Creativity -> 2333333.3333333335\n",
      "Entertainment;Action & Adventure -> 2333333.3333333335\n",
      "Art & Design -> 2122850.9433962265\n",
      "Education;Music & Video -> 2033333.3333333333\n",
      "Food & Drink -> 1924897.7363636363\n",
      "Education;Pretend Play -> 1800000.0\n",
      "Educational;Education -> 1737143.142857143\n",
      "Business -> 1712290.1474201474\n",
      "Casual;Brain Games -> 1425916.6666666667\n",
      "Lifestyle -> 1412998.3449275363\n",
      "Finance -> 1387692.475609756\n",
      "House & Home -> 1331540.5616438356\n",
      "Parenting;Music & Video -> 1118333.3333333333\n",
      "Education;Action & Adventure -> 1000000.0\n",
      "Entertainment;Education -> 1000000.0\n",
      "Casual;Education -> 1000000.0\n",
      "Arcade;Pretend Play -> 1000000.0\n",
      "Strategy;Action & Adventure -> 1000000.0\n",
      "Parenting;Brain Games -> 1000000.0\n",
      "Health & Fitness;Action & Adventure -> 1000000.0\n",
      "Racing;Pretend Play -> 1000000.0\n",
      "Strategy;Creativity -> 1000000.0\n",
      "Board;Brain Games -> 981250.0\n",
      "Dating -> 854028.8303030303\n",
      "Comics -> 831873.1481481482\n",
      "Puzzle;Creativity -> 750000.0\n",
      "Auto & Vehicles -> 647317.8170731707\n",
      "Libraries & Demo -> 638503.734939759\n",
      "Simulation;Pretend Play -> 550000.0\n",
      "Education -> 540691.7721518987\n",
      "Beauty -> 513151.88679245283\n",
      "Art & Design;Pretend Play -> 500000.0\n",
      "Music & Audio;Music & Video -> 500000.0\n",
      "Strategy;Education -> 500000.0\n",
      "Communication;Creativity -> 500000.0\n",
      "Parenting -> 467977.5\n",
      "Parenting;Education -> 452857.14285714284\n",
      "Educational -> 411184.8484848485\n",
      "Art & Design;Creativity -> 285000.0\n",
      "Events -> 253542.22222222222\n",
      "Medical -> 120616.48717948717\n",
      "Art & Design;Action & Adventure -> 100000.0\n",
      "Card;Brain Games -> 100000.0\n",
      "Health & Fitness;Education -> 100000.0\n",
      "Travel & Local;Action & Adventure -> 100000.0\n",
      "Lifestyle;Education -> 100000.0\n",
      "Puzzle;Education -> 100000.0\n",
      "Comics;Creativity -> 50000.0\n",
      "Books & Reference;Education -> 1000.0\n",
      "Simulation;Education -> 500.0\n",
      "Trivia;Education -> 100.0\n"
     ]
    }
   ],
   "source": [
    "for item in genre_stats:\n",
    "    print(item + ' -> ' + str(genre_stats[item]))"
   ]
  },
  {
   "cell_type": "code",
   "execution_count": 108,
   "metadata": {},
   "outputs": [
    {
     "name": "stdout",
     "output_type": "stream",
     "text": [
      "Messenger – Text and Video Chat for Free\n",
      "WhatsApp Messenger\n",
      "Google Chrome: Fast & Secure\n",
      "Gmail\n",
      "Hangouts\n",
      "Viber Messenger\n",
      "imo free video calls and chat\n",
      "Google Duo - High Quality Video Calls\n",
      "UC Browser - Fast Download Private & Secure\n",
      "Skype - free IM & video calls\n",
      "LINE: Free Calls & Messages\n"
     ]
    }
   ],
   "source": [
    "for row in googleplay_free_apps:\n",
    "    if row[9] == 'Communication' and row[5] > 100000000:\n",
    "        print(row[0])\n",
    "        "
   ]
  }
 ],
 "metadata": {
  "kernelspec": {
   "display_name": "Python 3",
   "language": "python",
   "name": "python3"
  },
  "language_info": {
   "codemirror_mode": {
    "name": "ipython",
    "version": 3
   },
   "file_extension": ".py",
   "mimetype": "text/x-python",
   "name": "python",
   "nbconvert_exporter": "python",
   "pygments_lexer": "ipython3",
   "version": "3.8.2"
  }
 },
 "nbformat": 4,
 "nbformat_minor": 4
}
